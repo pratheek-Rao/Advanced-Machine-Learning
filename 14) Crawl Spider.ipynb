{
 "cells": [
  {
   "cell_type": "code",
   "execution_count": null,
   "id": "f15d48a8",
   "metadata": {},
   "outputs": [],
   "source": [
    "import scrapy\n",
    "from scrapy.spiders import CrawlSpider,Rule\n",
    "from scrapy.linkextractors import LinkExtractor\n",
    "\n",
    "\n",
    "class MySpider(CrawlSpider):\n",
    "    name='program2'\n",
    "    allowed_domains=['google.com']\n",
    "    start_urls=['https://www.google.com']\n",
    "    rules=(\n",
    "        Rule(LinkExtractor(),callback='parse_page',follow=True),\n",
    "    )\n",
    "    def parse_page(self,response):\n",
    "        title=response.css('title::text').get()\n",
    "        paragraphs=response.css('p::text').getall()[:2]\n",
    "        yield\n",
    "        {\n",
    "            'title':title,\n",
    "            'paragraphs':paragraphs,\n",
    "        }\n",
    "        \n",
    "    "
   ]
  }
 ],
 "metadata": {
  "kernelspec": {
   "display_name": "Python 3 (ipykernel)",
   "language": "python",
   "name": "python3"
  },
  "language_info": {
   "codemirror_mode": {
    "name": "ipython",
    "version": 3
   },
   "file_extension": ".py",
   "mimetype": "text/x-python",
   "name": "python",
   "nbconvert_exporter": "python",
   "pygments_lexer": "ipython3",
   "version": "3.10.7"
  }
 },
 "nbformat": 4,
 "nbformat_minor": 5
}
