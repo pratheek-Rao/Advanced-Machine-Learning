{
 "cells": [
  {
   "cell_type": "code",
   "execution_count": null,
   "id": "9f514461",
   "metadata": {},
   "outputs": [],
   "source": [
    "import scrapy\n",
    "class WikipediaSpider(scrapy.Spider):\n",
    "    name='program1'\n",
    "    start_urls=['https://nmamit.nitte.edu.in/']\n",
    "    \n",
    "    #Set the user agent\n",
    "    #Not a bot\n",
    "    custom_settings={\n",
    "        'USER_AGENT':'Mozilla/5.0 (Windows NT 10.0; x64) AppleWebkit/537.36(KHTML,like Gecko) chrome/88.0.4324.150 Safari/537.36'\n",
    "    }\n",
    "    \n",
    "    def parse(self,response):\n",
    "        #Extract images\n",
    "        images=response.css('img::attr(src)').getall()\n",
    "        \n",
    "        #Extract paragraphs\n",
    "        paragraphs=response.css('p::text').getall()\n",
    "        \n",
    "        #Save images to a file\n",
    "        with open('images.txt','w') as file:\n",
    "            for image in images:\n",
    "                file.write(image+'\\n')\n",
    "                \n",
    "        #Save paragraphs to a file\n",
    "        with open('paragraphs.txt','w') as file:\n",
    "            for paragraph in paragraphs:\n",
    "                file.write(paragraph+'\\n')\n",
    "                "
   ]
  }
 ],
 "metadata": {
  "kernelspec": {
   "display_name": "Python 3 (ipykernel)",
   "language": "python",
   "name": "python3"
  },
  "language_info": {
   "codemirror_mode": {
    "name": "ipython",
    "version": 3
   },
   "file_extension": ".py",
   "mimetype": "text/x-python",
   "name": "python",
   "nbconvert_exporter": "python",
   "pygments_lexer": "ipython3",
   "version": "3.10.7"
  }
 },
 "nbformat": 4,
 "nbformat_minor": 5
}
